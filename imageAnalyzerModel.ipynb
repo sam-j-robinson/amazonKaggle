{
 "cells": [
  {
   "cell_type": "code",
   "execution_count": 6,
   "metadata": {
    "collapsed": true
   },
   "outputs": [],
   "source": [
    "import numpy as np # linear algebra\n",
    "import pandas as pd # data processing, CSV file I/O (e.g. pd.read_csv)\n",
    "import os\n",
    "import gc\n",
    "from tqdm import tqdm\n",
    "import gdal \n",
    "\n",
    "import keras as k\n",
    "from keras.models import Sequential\n",
    "from keras.layers import Dense, Dropout, Flatten\n",
    "from keras.layers import Conv2D, MaxPooling2D\n",
    "from keras.layers import Merge\n",
    "from keras.utils.vis_utils import model_to_dot\n",
    "\n",
    "import cv2\n",
    "\n",
    "import cv2\n",
    "from tqdm import tqdm\n",
    "from IPython.display import SVG\n",
    "\n",
    "import tensorflow as tf\n",
    "import matplotlib.pyplot as plt\n",
    "import matplotlib.image as mpimg"
   ]
  },
  {
   "cell_type": "code",
   "execution_count": 2,
   "metadata": {
    "collapsed": true
   },
   "outputs": [],
   "source": [
    "input_loc = 'input/'\n",
    "train_files = input_loc + 'train_jpg_features/'\n",
    "test_files = input_loc + 'test_jpg_features/'\n",
    "df_train = pd.read_csv(input_loc + 'train_v2.csv')\n",
    "feature_map = ['rgb', 'nvdi', 'ndwi', 'rgb_edge', 'nvdi_edge', 'ndwi_edge']"
   ]
  },
  {
   "cell_type": "code",
   "execution_count": 24,
   "metadata": {
    "scrolled": true
   },
   "outputs": [
    {
     "name": "stderr",
     "output_type": "stream",
     "text": [
      "100%|██████████| 40479/40479 [09:51<00:00, 68.49it/s]\n"
     ]
    }
   ],
   "source": [
    "#Create a small sample to test out the model\n",
    "df_train = pd.read_csv(input_loc + 'train.csv')\n",
    "size_percent = 1\n",
    "df_train = df_train.sample(n=int(len(df_train)*size_percent))\n",
    "\n",
    "flatten = lambda l: [item for sublist in l for item in sublist]\n",
    "labels = list(set(flatten([l.split(' ') for l in df_train['tags'].values])))\n",
    "\n",
    "label_map = {l: i for i, l in enumerate(labels)}\n",
    "inv_label_map = {i: l for l, i in label_map.items()}\n",
    "\n",
    "y_train_tags = []\n",
    "x_train = {\n",
    "            'rgb':[],\n",
    "            'nvdi': [],\n",
    "            'ndwi': [],\n",
    "            'rgb_edge': [],\n",
    "            'nvdi_edge': [],\n",
    "            'ndwi_edge': []\n",
    "          }\n",
    "\n",
    "for img_name, tags in tqdm(df_train.values, miniters=200):\n",
    "    targets = np.zeros(17)\n",
    "    for t in tags.split(' '):\n",
    "        targets[label_map[t]] = 1 \n",
    "    y_train_tags.append(targets)\n",
    "    \n",
    "    for img_type in feature_map:\n",
    "        img = cv2.imread(train_files + '%s_%s.jpg' %(img_name, feature_map[0]))\n",
    "        x_train[img_type].append(cv2.resize(img, (128,128)))\n"
   ]
  },
  {
   "cell_type": "code",
   "execution_count": 25,
   "metadata": {
    "scrolled": true
   },
   "outputs": [
    {
     "name": "stderr",
     "output_type": "stream",
     "text": [
      "100%|██████████| 6/6 [09:50<00:00, 95.56s/it] "
     ]
    },
    {
     "name": "stdout",
     "output_type": "stream",
     "text": [
      "x_train_rbg: 16191, x_valid_rbg: 24288\n",
      "y_train: 16191, y_valid: 24288\n"
     ]
    },
    {
     "name": "stderr",
     "output_type": "stream",
     "text": [
      "\n"
     ]
    }
   ],
   "source": [
    "#Create variables from small sample\n",
    "split = int((len(df_train)*.4))\n",
    "\n",
    "y_train_tags = np.array(y_train_tags, np.uint8)\n",
    "for key in tqdm(x_train, miniters=1):\n",
    "    x_train[key] = np.array(x_train[key], np.float16)/255.\n",
    "\n",
    "x_train_rgb, x_valid_rgb = x_train['rgb'][:split], x_train['rgb'][split:]\n",
    "x_train_nvdi, x_valid_nvdi = x_train['nvdi'][:split], x_train['nvdi'][split:]\n",
    "x_train_ndwi, x_valid_ndwi = x_train['ndwi'][:split], x_train['ndwi'][split:]\n",
    "x_train_rgb_edge, x_valid_rgb_edge = x_train['rgb_edge'][:split], x_train['rgb_edge'][split:]\n",
    "x_train_nvdi_edge, x_valid_nvdi_edge = x_train['nvdi_edge'][:split], x_train['nvdi_edge'][split:]\n",
    "x_train_ndwi_edge, x_valid_ndwi_edge = x_train['ndwi_edge'][:split], x_train['ndwi_edge'][split:]\n",
    "y_train, y_valid = y_train_tags[:split], y_train_tags[split:]\n",
    "\n",
    "print(\"x_train_rbg: %s, x_valid_rbg: %s\" %(len(x_train_rgb), len(x_valid_rgb)))\n",
    "print(\"y_train: %s, y_valid: %s\" %(len(y_train), len(y_valid)))"
   ]
  },
  {
   "cell_type": "code",
   "execution_count": 36,
   "metadata": {
    "scrolled": true
   },
   "outputs": [
    {
     "name": "stdout",
     "output_type": "stream",
     "text": [
      "RGB_BRANCH.ADD\n",
      "NVDI_BRANCH.ADD\n",
      "NDWI_BRANCH.ADD\n",
      "RGB_EDGE_BRANCH.ADD\n",
      "NVDI_EDGE_BRANCH.ADD\n",
      "NDWI_EDGE_BRANCH.ADD\n",
      "MODEL.MERGE\n",
      "MODEL.COMPILE\n"
     ]
    },
    {
     "name": "stderr",
     "output_type": "stream",
     "text": [
      "/Users/figaro/anaconda2/envs/py36/lib/python3.6/site-packages/ipykernel_launcher.py:81: UserWarning: The `Merge` layer is deprecated and will be removed after 08/2017. Use instead layers from `keras.layers.merge`, e.g. `add`, `concatenate`, etc.\n"
     ]
    },
    {
     "name": "stdout",
     "output_type": "stream",
     "text": [
      "MODEL.FIT\n",
      "Epoch 1/1\n",
      "  256/16191 [..............................] - ETA: 6194s - loss: 1.3442 - acc: 0.6445"
     ]
    },
    {
     "ename": "KeyboardInterrupt",
     "evalue": "",
     "output_type": "error",
     "traceback": [
      "\u001b[0;31m---------------------------------------------------------------------------\u001b[0m",
      "\u001b[0;31mKeyboardInterrupt\u001b[0m                         Traceback (most recent call last)",
      "\u001b[0;32m<ipython-input-36-2d84a1f14610>\u001b[0m in \u001b[0;36m<module>\u001b[0;34m()\u001b[0m\n\u001b[1;32m     95\u001b[0m           \u001b[0mbatch_size\u001b[0m\u001b[0;34m=\u001b[0m\u001b[0;36m128\u001b[0m\u001b[0;34m,\u001b[0m\u001b[0;34m\u001b[0m\u001b[0m\n\u001b[1;32m     96\u001b[0m           \u001b[0mepochs\u001b[0m\u001b[0;34m=\u001b[0m\u001b[0;36m1\u001b[0m\u001b[0;34m,\u001b[0m\u001b[0;34m\u001b[0m\u001b[0m\n\u001b[0;32m---> 97\u001b[0;31m           verbose=1)\n\u001b[0m",
      "\u001b[0;32m/Users/figaro/anaconda2/envs/py36/lib/python3.6/site-packages/keras/models.py\u001b[0m in \u001b[0;36mfit\u001b[0;34m(self, x, y, batch_size, epochs, verbose, callbacks, validation_split, validation_data, shuffle, class_weight, sample_weight, initial_epoch, **kwargs)\u001b[0m\n\u001b[1;32m    843\u001b[0m                               \u001b[0mclass_weight\u001b[0m\u001b[0;34m=\u001b[0m\u001b[0mclass_weight\u001b[0m\u001b[0;34m,\u001b[0m\u001b[0;34m\u001b[0m\u001b[0m\n\u001b[1;32m    844\u001b[0m                               \u001b[0msample_weight\u001b[0m\u001b[0;34m=\u001b[0m\u001b[0msample_weight\u001b[0m\u001b[0;34m,\u001b[0m\u001b[0;34m\u001b[0m\u001b[0m\n\u001b[0;32m--> 845\u001b[0;31m                               initial_epoch=initial_epoch)\n\u001b[0m\u001b[1;32m    846\u001b[0m \u001b[0;34m\u001b[0m\u001b[0m\n\u001b[1;32m    847\u001b[0m     def evaluate(self, x, y, batch_size=32, verbose=1,\n",
      "\u001b[0;32m/Users/figaro/anaconda2/envs/py36/lib/python3.6/site-packages/keras/engine/training.py\u001b[0m in \u001b[0;36mfit\u001b[0;34m(self, x, y, batch_size, epochs, verbose, callbacks, validation_split, validation_data, shuffle, class_weight, sample_weight, initial_epoch, **kwargs)\u001b[0m\n\u001b[1;32m   1483\u001b[0m                               \u001b[0mval_f\u001b[0m\u001b[0;34m=\u001b[0m\u001b[0mval_f\u001b[0m\u001b[0;34m,\u001b[0m \u001b[0mval_ins\u001b[0m\u001b[0;34m=\u001b[0m\u001b[0mval_ins\u001b[0m\u001b[0;34m,\u001b[0m \u001b[0mshuffle\u001b[0m\u001b[0;34m=\u001b[0m\u001b[0mshuffle\u001b[0m\u001b[0;34m,\u001b[0m\u001b[0;34m\u001b[0m\u001b[0m\n\u001b[1;32m   1484\u001b[0m                               \u001b[0mcallback_metrics\u001b[0m\u001b[0;34m=\u001b[0m\u001b[0mcallback_metrics\u001b[0m\u001b[0;34m,\u001b[0m\u001b[0;34m\u001b[0m\u001b[0m\n\u001b[0;32m-> 1485\u001b[0;31m                               initial_epoch=initial_epoch)\n\u001b[0m\u001b[1;32m   1486\u001b[0m \u001b[0;34m\u001b[0m\u001b[0m\n\u001b[1;32m   1487\u001b[0m     \u001b[0;32mdef\u001b[0m \u001b[0mevaluate\u001b[0m\u001b[0;34m(\u001b[0m\u001b[0mself\u001b[0m\u001b[0;34m,\u001b[0m \u001b[0mx\u001b[0m\u001b[0;34m,\u001b[0m \u001b[0my\u001b[0m\u001b[0;34m,\u001b[0m \u001b[0mbatch_size\u001b[0m\u001b[0;34m=\u001b[0m\u001b[0;36m32\u001b[0m\u001b[0;34m,\u001b[0m \u001b[0mverbose\u001b[0m\u001b[0;34m=\u001b[0m\u001b[0;36m1\u001b[0m\u001b[0;34m,\u001b[0m \u001b[0msample_weight\u001b[0m\u001b[0;34m=\u001b[0m\u001b[0;32mNone\u001b[0m\u001b[0;34m)\u001b[0m\u001b[0;34m:\u001b[0m\u001b[0;34m\u001b[0m\u001b[0m\n",
      "\u001b[0;32m/Users/figaro/anaconda2/envs/py36/lib/python3.6/site-packages/keras/engine/training.py\u001b[0m in \u001b[0;36m_fit_loop\u001b[0;34m(self, f, ins, out_labels, batch_size, epochs, verbose, callbacks, val_f, val_ins, shuffle, callback_metrics, initial_epoch)\u001b[0m\n\u001b[1;32m   1138\u001b[0m                 \u001b[0mbatch_logs\u001b[0m\u001b[0;34m[\u001b[0m\u001b[0;34m'size'\u001b[0m\u001b[0;34m]\u001b[0m \u001b[0;34m=\u001b[0m \u001b[0mlen\u001b[0m\u001b[0;34m(\u001b[0m\u001b[0mbatch_ids\u001b[0m\u001b[0;34m)\u001b[0m\u001b[0;34m\u001b[0m\u001b[0m\n\u001b[1;32m   1139\u001b[0m                 \u001b[0mcallbacks\u001b[0m\u001b[0;34m.\u001b[0m\u001b[0mon_batch_begin\u001b[0m\u001b[0;34m(\u001b[0m\u001b[0mbatch_index\u001b[0m\u001b[0;34m,\u001b[0m \u001b[0mbatch_logs\u001b[0m\u001b[0;34m)\u001b[0m\u001b[0;34m\u001b[0m\u001b[0m\n\u001b[0;32m-> 1140\u001b[0;31m                 \u001b[0mouts\u001b[0m \u001b[0;34m=\u001b[0m \u001b[0mf\u001b[0m\u001b[0;34m(\u001b[0m\u001b[0mins_batch\u001b[0m\u001b[0;34m)\u001b[0m\u001b[0;34m\u001b[0m\u001b[0m\n\u001b[0m\u001b[1;32m   1141\u001b[0m                 \u001b[0;32mif\u001b[0m \u001b[0;32mnot\u001b[0m \u001b[0misinstance\u001b[0m\u001b[0;34m(\u001b[0m\u001b[0mouts\u001b[0m\u001b[0;34m,\u001b[0m \u001b[0mlist\u001b[0m\u001b[0;34m)\u001b[0m\u001b[0;34m:\u001b[0m\u001b[0;34m\u001b[0m\u001b[0m\n\u001b[1;32m   1142\u001b[0m                     \u001b[0mouts\u001b[0m \u001b[0;34m=\u001b[0m \u001b[0;34m[\u001b[0m\u001b[0mouts\u001b[0m\u001b[0;34m]\u001b[0m\u001b[0;34m\u001b[0m\u001b[0m\n",
      "\u001b[0;32m/Users/figaro/anaconda2/envs/py36/lib/python3.6/site-packages/keras/backend/tensorflow_backend.py\u001b[0m in \u001b[0;36m__call__\u001b[0;34m(self, inputs)\u001b[0m\n\u001b[1;32m   2071\u001b[0m         \u001b[0msession\u001b[0m \u001b[0;34m=\u001b[0m \u001b[0mget_session\u001b[0m\u001b[0;34m(\u001b[0m\u001b[0;34m)\u001b[0m\u001b[0;34m\u001b[0m\u001b[0m\n\u001b[1;32m   2072\u001b[0m         updated = session.run(self.outputs + [self.updates_op],\n\u001b[0;32m-> 2073\u001b[0;31m                               feed_dict=feed_dict)\n\u001b[0m\u001b[1;32m   2074\u001b[0m         \u001b[0;32mreturn\u001b[0m \u001b[0mupdated\u001b[0m\u001b[0;34m[\u001b[0m\u001b[0;34m:\u001b[0m\u001b[0mlen\u001b[0m\u001b[0;34m(\u001b[0m\u001b[0mself\u001b[0m\u001b[0;34m.\u001b[0m\u001b[0moutputs\u001b[0m\u001b[0;34m)\u001b[0m\u001b[0;34m]\u001b[0m\u001b[0;34m\u001b[0m\u001b[0m\n\u001b[1;32m   2075\u001b[0m \u001b[0;34m\u001b[0m\u001b[0m\n",
      "\u001b[0;32m/Users/figaro/anaconda2/envs/py36/lib/python3.6/site-packages/tensorflow/python/client/session.py\u001b[0m in \u001b[0;36mrun\u001b[0;34m(self, fetches, feed_dict, options, run_metadata)\u001b[0m\n\u001b[1;32m    765\u001b[0m     \u001b[0;32mtry\u001b[0m\u001b[0;34m:\u001b[0m\u001b[0;34m\u001b[0m\u001b[0m\n\u001b[1;32m    766\u001b[0m       result = self._run(None, fetches, feed_dict, options_ptr,\n\u001b[0;32m--> 767\u001b[0;31m                          run_metadata_ptr)\n\u001b[0m\u001b[1;32m    768\u001b[0m       \u001b[0;32mif\u001b[0m \u001b[0mrun_metadata\u001b[0m\u001b[0;34m:\u001b[0m\u001b[0;34m\u001b[0m\u001b[0m\n\u001b[1;32m    769\u001b[0m         \u001b[0mproto_data\u001b[0m \u001b[0;34m=\u001b[0m \u001b[0mtf_session\u001b[0m\u001b[0;34m.\u001b[0m\u001b[0mTF_GetBuffer\u001b[0m\u001b[0;34m(\u001b[0m\u001b[0mrun_metadata_ptr\u001b[0m\u001b[0;34m)\u001b[0m\u001b[0;34m\u001b[0m\u001b[0m\n",
      "\u001b[0;32m/Users/figaro/anaconda2/envs/py36/lib/python3.6/site-packages/tensorflow/python/client/session.py\u001b[0m in \u001b[0;36m_run\u001b[0;34m(self, handle, fetches, feed_dict, options, run_metadata)\u001b[0m\n\u001b[1;32m    963\u001b[0m     \u001b[0;32mif\u001b[0m \u001b[0mfinal_fetches\u001b[0m \u001b[0;32mor\u001b[0m \u001b[0mfinal_targets\u001b[0m\u001b[0;34m:\u001b[0m\u001b[0;34m\u001b[0m\u001b[0m\n\u001b[1;32m    964\u001b[0m       results = self._do_run(handle, final_targets, final_fetches,\n\u001b[0;32m--> 965\u001b[0;31m                              feed_dict_string, options, run_metadata)\n\u001b[0m\u001b[1;32m    966\u001b[0m     \u001b[0;32melse\u001b[0m\u001b[0;34m:\u001b[0m\u001b[0;34m\u001b[0m\u001b[0m\n\u001b[1;32m    967\u001b[0m       \u001b[0mresults\u001b[0m \u001b[0;34m=\u001b[0m \u001b[0;34m[\u001b[0m\u001b[0;34m]\u001b[0m\u001b[0;34m\u001b[0m\u001b[0m\n",
      "\u001b[0;32m/Users/figaro/anaconda2/envs/py36/lib/python3.6/site-packages/tensorflow/python/client/session.py\u001b[0m in \u001b[0;36m_do_run\u001b[0;34m(self, handle, target_list, fetch_list, feed_dict, options, run_metadata)\u001b[0m\n\u001b[1;32m   1013\u001b[0m     \u001b[0;32mif\u001b[0m \u001b[0mhandle\u001b[0m \u001b[0;32mis\u001b[0m \u001b[0;32mNone\u001b[0m\u001b[0;34m:\u001b[0m\u001b[0;34m\u001b[0m\u001b[0m\n\u001b[1;32m   1014\u001b[0m       return self._do_call(_run_fn, self._session, feed_dict, fetch_list,\n\u001b[0;32m-> 1015\u001b[0;31m                            target_list, options, run_metadata)\n\u001b[0m\u001b[1;32m   1016\u001b[0m     \u001b[0;32melse\u001b[0m\u001b[0;34m:\u001b[0m\u001b[0;34m\u001b[0m\u001b[0m\n\u001b[1;32m   1017\u001b[0m       return self._do_call(_prun_fn, self._session, handle, feed_dict,\n",
      "\u001b[0;32m/Users/figaro/anaconda2/envs/py36/lib/python3.6/site-packages/tensorflow/python/client/session.py\u001b[0m in \u001b[0;36m_do_call\u001b[0;34m(self, fn, *args)\u001b[0m\n\u001b[1;32m   1020\u001b[0m   \u001b[0;32mdef\u001b[0m \u001b[0m_do_call\u001b[0m\u001b[0;34m(\u001b[0m\u001b[0mself\u001b[0m\u001b[0;34m,\u001b[0m \u001b[0mfn\u001b[0m\u001b[0;34m,\u001b[0m \u001b[0;34m*\u001b[0m\u001b[0margs\u001b[0m\u001b[0;34m)\u001b[0m\u001b[0;34m:\u001b[0m\u001b[0;34m\u001b[0m\u001b[0m\n\u001b[1;32m   1021\u001b[0m     \u001b[0;32mtry\u001b[0m\u001b[0;34m:\u001b[0m\u001b[0;34m\u001b[0m\u001b[0m\n\u001b[0;32m-> 1022\u001b[0;31m       \u001b[0;32mreturn\u001b[0m \u001b[0mfn\u001b[0m\u001b[0;34m(\u001b[0m\u001b[0;34m*\u001b[0m\u001b[0margs\u001b[0m\u001b[0;34m)\u001b[0m\u001b[0;34m\u001b[0m\u001b[0m\n\u001b[0m\u001b[1;32m   1023\u001b[0m     \u001b[0;32mexcept\u001b[0m \u001b[0merrors\u001b[0m\u001b[0;34m.\u001b[0m\u001b[0mOpError\u001b[0m \u001b[0;32mas\u001b[0m \u001b[0me\u001b[0m\u001b[0;34m:\u001b[0m\u001b[0;34m\u001b[0m\u001b[0m\n\u001b[1;32m   1024\u001b[0m       \u001b[0mmessage\u001b[0m \u001b[0;34m=\u001b[0m \u001b[0mcompat\u001b[0m\u001b[0;34m.\u001b[0m\u001b[0mas_text\u001b[0m\u001b[0;34m(\u001b[0m\u001b[0me\u001b[0m\u001b[0;34m.\u001b[0m\u001b[0mmessage\u001b[0m\u001b[0;34m)\u001b[0m\u001b[0;34m\u001b[0m\u001b[0m\n",
      "\u001b[0;32m/Users/figaro/anaconda2/envs/py36/lib/python3.6/site-packages/tensorflow/python/client/session.py\u001b[0m in \u001b[0;36m_run_fn\u001b[0;34m(session, feed_dict, fetch_list, target_list, options, run_metadata)\u001b[0m\n\u001b[1;32m   1002\u001b[0m         return tf_session.TF_Run(session, options,\n\u001b[1;32m   1003\u001b[0m                                  \u001b[0mfeed_dict\u001b[0m\u001b[0;34m,\u001b[0m \u001b[0mfetch_list\u001b[0m\u001b[0;34m,\u001b[0m \u001b[0mtarget_list\u001b[0m\u001b[0;34m,\u001b[0m\u001b[0;34m\u001b[0m\u001b[0m\n\u001b[0;32m-> 1004\u001b[0;31m                                  status, run_metadata)\n\u001b[0m\u001b[1;32m   1005\u001b[0m \u001b[0;34m\u001b[0m\u001b[0m\n\u001b[1;32m   1006\u001b[0m     \u001b[0;32mdef\u001b[0m \u001b[0m_prun_fn\u001b[0m\u001b[0;34m(\u001b[0m\u001b[0msession\u001b[0m\u001b[0;34m,\u001b[0m \u001b[0mhandle\u001b[0m\u001b[0;34m,\u001b[0m \u001b[0mfeed_dict\u001b[0m\u001b[0;34m,\u001b[0m \u001b[0mfetch_list\u001b[0m\u001b[0;34m)\u001b[0m\u001b[0;34m:\u001b[0m\u001b[0;34m\u001b[0m\u001b[0m\n",
      "\u001b[0;31mKeyboardInterrupt\u001b[0m: "
     ]
    }
   ],
   "source": [
    "from keras.callbacks import ModelCheckpoint\n",
    "\n",
    "filepath=\"weights.best.branch6Model\"\n",
    "checkpoint = ModelCheckpoint(filepath, monitor='val_acc', verbose=1, save_best_only=True)\n",
    "\n",
    "print(\"RGB_BRANCH.ADD\")\n",
    "rgb_branch = Sequential()\n",
    "rgb_branch.add(Conv2D(32, kernel_size=(2,2),\n",
    "             activation='relu',\n",
    "             input_shape=(128, 128, 3)\n",
    "             ))\n",
    "rgb_branch.add(Conv2D(32, (3, 3), activation='relu'))\n",
    "rgb_branch.add(MaxPooling2D(pool_size=(2, 2)))\n",
    "rgb_branch.add(Dropout(0.25))\n",
    "rgb_branch.add(Dense(128, activation='relu'))\n",
    "rgb_branch.add(Dropout(0.5))\n",
    "\n",
    "print(\"NVDI_BRANCH.ADD\")\n",
    "nvdi_branch = Sequential()\n",
    "nvdi_branch.add(Conv2D(32, kernel_size=(2,2),\n",
    "             activation='relu',\n",
    "             input_shape=(128, 128, 3)\n",
    "             ))\n",
    "nvdi_branch.add(Conv2D(32, (3, 3), activation='relu'))\n",
    "nvdi_branch.add(MaxPooling2D(pool_size=(2, 2)))\n",
    "nvdi_branch.add(Dropout(0.25))\n",
    "nvdi_branch.add(Dense(128, activation='relu'))\n",
    "nvdi_branch.add(Dropout(0.5))\n",
    "\n",
    "print(\"NDWI_BRANCH.ADD\")\n",
    "ndwi_branch = Sequential()\n",
    "ndwi_branch = Sequential()\n",
    "ndwi_branch.add(Conv2D(32, kernel_size=(2,2),\n",
    "             activation='relu',\n",
    "             input_shape=(128, 128, 3)\n",
    "             ))\n",
    "ndwi_branch.add(Conv2D(32, (3, 3), activation='relu'))\n",
    "ndwi_branch.add(MaxPooling2D(pool_size=(2, 2)))\n",
    "ndwi_branch.add(Dropout(0.25))\n",
    "ndwi_branch.add(Dense(128, activation='relu'))\n",
    "ndwi_branch.add(Dropout(0.5))\n",
    "\n",
    "print(\"RGB_EDGE_BRANCH.ADD\")\n",
    "rgb_edge_branch = Sequential()\n",
    "rgb_edge_branch.add(Conv2D(16, kernel_size=(2,2),\n",
    "             activation='relu',\n",
    "             input_shape=(128, 128, 3)\n",
    "             ))\n",
    "rgb_edge_branch.add(Conv2D(32, (3, 3), activation='relu'))\n",
    "rgb_edge_branch.add(MaxPooling2D(pool_size=(2,2)))\n",
    "rgb_edge_branch.add(Dropout(0.25))\n",
    "rgb_edge_branch.add(Dense(128, activation='sigmoid'))\n",
    "rgb_edge_branch.add(Dropout(0.5))\n",
    "\n",
    "print(\"NVDI_EDGE_BRANCH.ADD\")\n",
    "nvdi_edge_branch = Sequential()\n",
    "nvdi_edge_branch.add(Conv2D(16, kernel_size=(2,2),\n",
    "             activation='relu',\n",
    "             input_shape=(128, 128, 3)\n",
    "             ))\n",
    "nvdi_edge_branch.add(Conv2D(32, (3, 3), activation='relu'))\n",
    "nvdi_edge_branch.add(MaxPooling2D(pool_size=(2,2)))\n",
    "nvdi_edge_branch.add(Dropout(0.25))\n",
    "nvdi_edge_branch.add(Dense(128, activation='relu'))\n",
    "nvdi_edge_branch.add(Dropout(0.5))\n",
    "\n",
    "print(\"NDWI_EDGE_BRANCH.ADD\")\n",
    "ndwi_edge_branch = Sequential()\n",
    "ndwi_edge_branch.add(Conv2D(16, kernel_size=(2,2),\n",
    "             activation='relu',\n",
    "             input_shape=(128, 128, 3)\n",
    "             ))\n",
    "ndwi_edge_branch.add(Conv2D(32, (3, 3), activation='relu'))\n",
    "ndwi_edge_branch.add(MaxPooling2D(pool_size=(2,2)))\n",
    "ndwi_edge_branch.add(Dropout(0.25))\n",
    "ndwi_edge_branch.add(Dense(128, activation='sigmoid'))\n",
    "ndwi_edge_branch.add(Dropout(0.5))\n",
    "\n",
    "print(\"MODEL.MERGE\")\n",
    "model = Sequential()\n",
    "merged = Merge([rgb_branch, nvdi_branch, ndwi_branch, rgb_edge_branch, nvdi_edge_branch, ndwi_edge_branch], mode = 'sum')\n",
    "\n",
    "model.add(merged)\n",
    "model.add(Flatten())\n",
    "model.add(Dense(17, activation='sigmoid'))\n",
    "\n",
    "print(\"MODEL.COMPILE\")\n",
    "model.compile(loss='binary_crossentropy',\n",
    "              optimizer='adam',\n",
    "              metrics=['accuracy'])\n",
    "\n",
    "print(\"MODEL.FIT\")\n",
    "model.fit([x_train_rgb, x_train_nvdi, x_train_ndwi, x_train_rgb_edge, x_train_nvdi_edge, x_train_ndwi_edge], \n",
    "          y_train,\n",
    "          batch_size=128,\n",
    "          epochs=1,\n",
    "          verbose=1)"
   ]
  },
  {
   "cell_type": "code",
   "execution_count": 30,
   "metadata": {},
   "outputs": [
    {
     "name": "stdout",
     "output_type": "stream",
     "text": [
      "0.657506315582\n"
     ]
    }
   ],
   "source": [
    "from sklearn.metrics import fbeta_score\n",
    "\n",
    "p_valid = model.predict([x_valid_rgb, x_valid_nvdi, x_valid_ndwi, x_valid_rgb_edge, x_valid_nvdi_edge, x_valid_ndwi_edge], batch_size=128)\n",
    "score = fbeta_score(y_valid, np.array(p_valid) > 0.2, beta=2, average='samples')\n",
    "print(score)"
   ]
  },
  {
   "cell_type": "code",
   "execution_count": null,
   "metadata": {
    "collapsed": true
   },
   "outputs": [],
   "source": []
  }
 ],
 "metadata": {
  "kernelspec": {
   "display_name": "Python 3",
   "language": "python",
   "name": "python3"
  },
  "language_info": {
   "codemirror_mode": {
    "name": "ipython",
    "version": 3
   },
   "file_extension": ".py",
   "mimetype": "text/x-python",
   "name": "python",
   "nbconvert_exporter": "python",
   "pygments_lexer": "ipython3",
   "version": "3.6.1"
  }
 },
 "nbformat": 4,
 "nbformat_minor": 2
}
