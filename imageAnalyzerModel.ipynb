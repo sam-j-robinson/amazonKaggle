{
 "cells": [
  {
   "cell_type": "code",
   "execution_count": 1,
   "metadata": {},
   "outputs": [
    {
     "name": "stderr",
     "output_type": "stream",
     "text": [
      "Using TensorFlow backend.\n"
     ]
    }
   ],
   "source": [
    "import numpy as np # linear algebra\n",
    "import pandas as pd # data processing, CSV file I/O (e.g. pd.read_csv)\n",
    "import os\n",
    "import gc\n",
    "from tqdm import tqdm\n",
    "import gdal \n",
    "\n",
    "import keras as k\n",
    "from keras.models import Sequential\n",
    "from keras.layers import Dense, Dropout, Flatten\n",
    "from keras.layers import Conv2D, MaxPooling2D\n",
    "from keras.layers import Merge\n",
    "from keras.utils.vis_utils import model_to_dot\n",
    "\n",
    "import cv2\n",
    "\n",
    "import cv2\n",
    "from tqdm import tqdm\n",
    "from IPython.display import SVG\n",
    "\n",
    "import tensorflow as tf\n",
    "import matplotlib.pyplot as plt\n",
    "import matplotlib.image as mpimg"
   ]
  },
  {
   "cell_type": "code",
   "execution_count": 2,
   "metadata": {
    "collapsed": true
   },
   "outputs": [],
   "source": [
    "input_loc = 'input/'\n",
    "train_files = input_loc + 'train_jpg_features/'\n",
    "test_files = input_loc + 'test_jpg_features/'\n",
    "df_train = pd.read_csv(input_loc + 'train_v2.csv')\n",
    "feature_map = ['rgb', 'nvdi', 'ndwi', 'rgb_edge', 'nvdi_edge', 'ndwi_edge']"
   ]
  },
  {
   "cell_type": "code",
   "execution_count": 3,
   "metadata": {
    "scrolled": true
   },
   "outputs": [
    {
     "name": "stderr",
     "output_type": "stream",
     "text": [
      "100%|██████████| 2023/2023 [00:30<00:00, 66.71it/s]\n"
     ]
    }
   ],
   "source": [
    "#Create a small sample to test out the model\n",
    "df_train = pd.read_csv(input_loc + 'train.csv')\n",
    "size_percent = .05\n",
    "df_train = df_train.sample(n=int(len(df_train)*size_percent))\n",
    "\n",
    "flatten = lambda l: [item for sublist in l for item in sublist]\n",
    "labels = list(set(flatten([l.split(' ') for l in df_train['tags'].values])))\n",
    "\n",
    "label_map = {l: i for i, l in enumerate(labels)}\n",
    "inv_label_map = {i: l for l, i in label_map.items()}\n",
    "\n",
    "y_train_tags = []\n",
    "x_train = {\n",
    "            'rgb':[],\n",
    "            'nvdi': [],\n",
    "            'ndwi': [],\n",
    "            'rgb_edge': [],\n",
    "            'nvdi_edge': [],\n",
    "            'ndwi_edge': []\n",
    "          }\n",
    "\n",
    "for img_name, tags in tqdm(df_train.values, miniters=200):\n",
    "    targets = np.zeros(17)\n",
    "    for t in tags.split(' '):\n",
    "        targets[label_map[t]] = 1 \n",
    "    y_train_tags.append(targets)\n",
    "    \n",
    "    for img_type in feature_map:\n",
    "        img = cv2.imread(train_files + '%s_%s.jpg' %(img_name, feature_map[0]))\n",
    "        x_train[img_type].append(cv2.resize(img, (128,128)))\n"
   ]
  },
  {
   "cell_type": "code",
   "execution_count": 4,
   "metadata": {
    "scrolled": true
   },
   "outputs": [
    {
     "name": "stderr",
     "output_type": "stream",
     "text": [
      "100%|██████████| 6/6 [00:09<00:00,  1.60s/it]"
     ]
    },
    {
     "name": "stdout",
     "output_type": "stream",
     "text": [
      "x_train_rbg: 809, x_valid_rbg: 1214\n",
      "y_train: 809, y_valid: 1214\n"
     ]
    },
    {
     "name": "stderr",
     "output_type": "stream",
     "text": [
      "\n"
     ]
    }
   ],
   "source": [
    "#Create variables from small sample\n",
    "split = int((len(df_train)*.4))\n",
    "\n",
    "y_train_tags = np.array(y_train_tags, np.uint8)\n",
    "for key in tqdm(x_train, miniters=1):\n",
    "    x_train[key] = np.array(x_train[key], np.float16)/255.\n",
    "\n",
    "x_train_rgb, x_valid_rgb = x_train['rgb'][:split], x_train['rgb'][split:]\n",
    "x_train_nvdi, x_valid_nvdi = x_train['nvdi'][:split], x_train['nvdi'][split:]\n",
    "x_train_ndwi, x_valid_ndwi = x_train['ndwi'][:split], x_train['ndwi'][split:]\n",
    "x_train_rgb_edge, x_valid_rgb_edge = x_train['rgb_edge'][:split], x_train['rgb_edge'][split:]\n",
    "x_train_nvdi_edge, x_valid_nvdi_edge = x_train['nvdi_edge'][:split], x_train['nvdi_edge'][split:]\n",
    "x_train_ndwi_edge, x_valid_ndwi_edge = x_train['ndwi_edge'][:split], x_train['ndwi_edge'][split:]\n",
    "y_train, y_valid = y_train_tags[:split], y_train_tags[split:]\n",
    "\n",
    "print(\"x_train_rbg: %s, x_valid_rbg: %s\" %(len(x_train_rgb), len(x_valid_rgb)))\n",
    "print(\"y_train: %s, y_valid: %s\" %(len(y_train), len(y_valid)))"
   ]
  },
  {
   "cell_type": "code",
   "execution_count": 6,
   "metadata": {
    "scrolled": true
   },
   "outputs": [
    {
     "name": "stdout",
     "output_type": "stream",
     "text": [
      "RGB_BRANCH.ADD\n",
      "_________________________________________________________________\n",
      "Layer (type)                 Output Shape              Param #   \n",
      "=================================================================\n",
      "conv2d_13 (Conv2D)           (None, 127, 127, 32)      416       \n",
      "_________________________________________________________________\n",
      "conv2d_14 (Conv2D)           (None, 125, 125, 32)      9248      \n",
      "_________________________________________________________________\n",
      "max_pooling2d_7 (MaxPooling2 (None, 62, 62, 32)        0         \n",
      "_________________________________________________________________\n",
      "dropout_13 (Dropout)         (None, 62, 62, 32)        0         \n",
      "_________________________________________________________________\n",
      "dense_8 (Dense)              (None, 62, 62, 128)       4224      \n",
      "_________________________________________________________________\n",
      "dropout_14 (Dropout)         (None, 62, 62, 128)       0         \n",
      "=================================================================\n",
      "Total params: 13,888.0\n",
      "Trainable params: 13,888.0\n",
      "Non-trainable params: 0.0\n",
      "_________________________________________________________________\n",
      "None\n",
      "NVDI_BRANCH.ADD\n",
      "NDWI_BRANCH.ADD\n",
      "RGB_EDGE_BRANCH.ADD\n",
      "NVDI_EDGE_BRANCH.ADD\n",
      "NDWI_EDGE_BRANCH.ADD\n",
      "MODEL.MERGE\n",
      "MODEL.COMPILE\n",
      "_________________________________________________________________\n",
      "Layer (type)                 Output Shape              Param #   \n",
      "=================================================================\n",
      "conv2d_13 (Conv2D)           (None, 127, 127, 32)      416       \n",
      "_________________________________________________________________\n",
      "conv2d_14 (Conv2D)           (None, 125, 125, 32)      9248      \n",
      "_________________________________________________________________\n",
      "max_pooling2d_7 (MaxPooling2 (None, 62, 62, 32)        0         \n",
      "_________________________________________________________________\n",
      "dropout_13 (Dropout)         (None, 62, 62, 32)        0         \n",
      "_________________________________________________________________\n",
      "dense_8 (Dense)              (None, 62, 62, 128)       4224      \n",
      "_________________________________________________________________\n",
      "dropout_14 (Dropout)         (None, 62, 62, 128)       0         \n",
      "=================================================================\n",
      "Total params: 13,888.0\n",
      "Trainable params: 13,888.0\n",
      "Non-trainable params: 0.0\n",
      "_________________________________________________________________\n",
      "None\n"
     ]
    },
    {
     "name": "stderr",
     "output_type": "stream",
     "text": [
      "/Users/figaro/anaconda2/envs/py36/lib/python3.6/site-packages/ipykernel_launcher.py:81: UserWarning: The `Merge` layer is deprecated and will be removed after 08/2017. Use instead layers from `keras.layers.merge`, e.g. `add`, `concatenate`, etc.\n"
     ]
    }
   ],
   "source": [
    "from keras.callbacks import ModelCheckpoint\n",
    "\n",
    "filepath=\"weights.best.branch6Model\"\n",
    "checkpoint = ModelCheckpoint(filepath, monitor='val_acc', verbose=1, save_best_only=True)\n",
    "\n",
    "print(\"RGB_BRANCH.ADD\")\n",
    "rgb_branch = Sequential()\n",
    "rgb_branch.add(Conv2D(32, kernel_size=(2,2),\n",
    "             activation='relu',\n",
    "             input_shape=(128, 128, 3)\n",
    "             ))\n",
    "rgb_branch.add(Conv2D(32, (3, 3), activation='relu'))\n",
    "rgb_branch.add(MaxPooling2D(pool_size=(2, 2)))\n",
    "rgb_branch.add(Dropout(0.25))\n",
    "rgb_branch.add(Dense(128, activation='relu'))\n",
    "rgb_branch.add(Dropout(0.5))\n",
    "print(rgb_branch.summary())\n",
    "print(\"NVDI_BRANCH.ADD\")\n",
    "nvdi_branch = Sequential()\n",
    "nvdi_branch.add(Conv2D(32, kernel_size=(2,2),\n",
    "             activation='relu',\n",
    "             input_shape=(128, 128, 3)\n",
    "             ))\n",
    "nvdi_branch.add(Conv2D(32, (3, 3), activation='relu'))\n",
    "nvdi_branch.add(MaxPooling2D(pool_size=(2, 2)))\n",
    "nvdi_branch.add(Dropout(0.25))\n",
    "nvdi_branch.add(Dense(128, activation='relu'))\n",
    "nvdi_branch.add(Dropout(0.5))\n",
    "\n",
    "print(\"NDWI_BRANCH.ADD\")\n",
    "ndwi_branch = Sequential()\n",
    "ndwi_branch = Sequential()\n",
    "ndwi_branch.add(Conv2D(32, kernel_size=(2,2),\n",
    "             activation='relu',\n",
    "             input_shape=(128, 128, 3)\n",
    "             ))\n",
    "ndwi_branch.add(Conv2D(32, (3, 3), activation='relu'))\n",
    "ndwi_branch.add(MaxPooling2D(pool_size=(2, 2)))\n",
    "ndwi_branch.add(Dropout(0.25))\n",
    "ndwi_branch.add(Dense(128, activation='relu'))\n",
    "ndwi_branch.add(Dropout(0.5))\n",
    "\n",
    "print(\"RGB_EDGE_BRANCH.ADD\")\n",
    "rgb_edge_branch = Sequential()\n",
    "rgb_edge_branch.add(Conv2D(16, kernel_size=(2,2),\n",
    "             activation='relu',\n",
    "             input_shape=(128, 128, 3)\n",
    "             ))\n",
    "rgb_edge_branch.add(Conv2D(32, (3, 3), activation='relu'))\n",
    "rgb_edge_branch.add(MaxPooling2D(pool_size=(2,2)))\n",
    "rgb_edge_branch.add(Dropout(0.25))\n",
    "rgb_edge_branch.add(Dense(128, activation='sigmoid'))\n",
    "rgb_edge_branch.add(Dropout(0.5))\n",
    "\n",
    "print(\"NVDI_EDGE_BRANCH.ADD\")\n",
    "nvdi_edge_branch = Sequential()\n",
    "nvdi_edge_branch.add(Conv2D(16, kernel_size=(2,2),\n",
    "             activation='relu',\n",
    "             input_shape=(128, 128, 3)\n",
    "             ))\n",
    "nvdi_edge_branch.add(Conv2D(32, (3, 3), activation='relu'))\n",
    "nvdi_edge_branch.add(MaxPooling2D(pool_size=(2,2)))\n",
    "nvdi_edge_branch.add(Dropout(0.25))\n",
    "nvdi_edge_branch.add(Dense(128, activation='relu'))\n",
    "nvdi_edge_branch.add(Dropout(0.5))\n",
    "\n",
    "print(\"NDWI_EDGE_BRANCH.ADD\")\n",
    "ndwi_edge_branch = Sequential()\n",
    "ndwi_edge_branch.add(Conv2D(16, kernel_size=(2,2),\n",
    "             activation='relu',\n",
    "             input_shape=(128, 128, 3)\n",
    "             ))\n",
    "ndwi_edge_branch.add(Conv2D(32, (3, 3), activation='relu'))\n",
    "ndwi_edge_branch.add(MaxPooling2D(pool_size=(2,2)))\n",
    "ndwi_edge_branch.add(Dropout(0.25))\n",
    "ndwi_edge_branch.add(Dense(128, activation='sigmoid'))\n",
    "ndwi_edge_branch.add(Dropout(0.5))\n",
    "\n",
    "print(\"MODEL.MERGE\")\n",
    "model = Sequential()\n",
    "merged = Merge([rgb_branch, nvdi_branch, ndwi_branch, rgb_edge_branch, nvdi_edge_branch, ndwi_edge_branch], mode = 'sum')\n",
    "\n",
    "model.add(merged)\n",
    "model.add(Flatten())\n",
    "model.add(Dense(17, activation='sigmoid'))\n",
    "\n",
    "print(\"MODEL.COMPILE\")\n",
    "model.compile(loss='binary_crossentropy',\n",
    "              optimizer='adam',\n",
    "              metrics=['accuracy'])\n",
    "\n",
    "print(\"MODEL.FIT\")\n",
    "model.fit([x_train_rgb, x_train_nvdi, x_train_ndwi, x_train_rgb_edge, x_train_nvdi_edge, x_train_ndwi_edge], \n",
    "          y_train,\n",
    "          batch_size=128,\n",
    "          epochs=1,\n",
    "          verbose=1)"
   ]
  },
  {
   "cell_type": "code",
   "execution_count": 30,
   "metadata": {},
   "outputs": [
    {
     "name": "stdout",
     "output_type": "stream",
     "text": [
      "0.657506315582\n"
     ]
    }
   ],
   "source": [
    "from sklearn.metrics import fbeta_score\n",
    "\n",
    "p_valid = model.predict([x_valid_rgb, x_valid_nvdi, x_valid_ndwi, x_valid_rgb_edge, x_valid_nvdi_edge, x_valid_ndwi_edge], batch_size=128)\n",
    "score = fbeta_score(y_valid, np.array(p_valid) > 0.2, beta=2, average='samples')\n",
    "print(score)"
   ]
  },
  {
   "cell_type": "code",
   "execution_count": null,
   "metadata": {
    "collapsed": true
   },
   "outputs": [],
   "source": []
  }
 ],
 "metadata": {
  "kernelspec": {
   "display_name": "Python 3",
   "language": "python",
   "name": "python3"
  },
  "language_info": {
   "codemirror_mode": {
    "name": "ipython",
    "version": 3
   },
   "file_extension": ".py",
   "mimetype": "text/x-python",
   "name": "python",
   "nbconvert_exporter": "python",
   "pygments_lexer": "ipython3",
   "version": "3.6.1"
  }
 },
 "nbformat": 4,
 "nbformat_minor": 2
}
